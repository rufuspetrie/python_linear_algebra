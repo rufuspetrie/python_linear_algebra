{
 "cells": [
  {
   "cell_type": "code",
   "execution_count": 9,
   "id": "a9413d89",
   "metadata": {},
   "outputs": [],
   "source": [
    "import numpy as np\n",
    "import matplotlib.pyplot as plt"
   ]
  },
  {
   "cell_type": "markdown",
   "id": "584e3689",
   "metadata": {},
   "source": [
    "# Exercise 1"
   ]
  },
  {
   "cell_type": "code",
   "execution_count": 29,
   "id": "dec89745",
   "metadata": {},
   "outputs": [
    {
     "name": "stdout",
     "output_type": "stream",
     "text": [
      "(0.8340366332940372, 0.8986363158231249)\n",
      "(0.8340366332940372, 0.8340366332940372)\n"
     ]
    }
   ],
   "source": [
    "np.random.seed(0)\n",
    "v = np.random.randn(10)\n",
    "x = v + np.random.randn(10)\n",
    "\n",
    "def cors(v1, v2):\n",
    "    pearson = np.dot(v1 - v1.mean(), v2 - v2.mean()) / (np.linalg.norm(v1 - v1.mean()) * np.linalg.norm(v2 - v2.mean()))\n",
    "    cosine_s =  np.dot(v1, v2) / (np.linalg.norm(v1) * np.linalg.norm(v2))\n",
    "    return pearson, cosine_s\n",
    "    \n",
    "print(cors(v, x))\n",
    "print(cors(v - v.mean(), x - x.mean()))"
   ]
  },
  {
   "cell_type": "markdown",
   "id": "ad5c301d",
   "metadata": {},
   "source": [
    "- Note: need n in denominator if using standard deviation functions\n",
    "- Notice how sums of products can be described as dot products and sums of squares as norms\n",
    "- Notice how the Pearson correlation and cosine similarity are the same when the data is demeaned"
   ]
  },
  {
   "cell_type": "markdown",
   "id": "13cd1dea",
   "metadata": {},
   "source": [
    "# Exercise 2"
   ]
  },
  {
   "cell_type": "code",
   "execution_count": 56,
   "id": "5a3e13d9",
   "metadata": {},
   "outputs": [
    {
     "data": {
      "image/png": "[encoded data removed]",
      "text/plain": [
       "<Figure size 576x288 with 1 Axes>"
      ]
     },
     "metadata": {
      "needs_background": "light"
     },
     "output_type": "display_data"
    }
   ],
   "source": [
    "v = np.arange(4)\n",
    "offsets = np.arange(-50, 51)\n",
    "res = np.zeros((len(offsets), 2))\n",
    "for i in range(len(offsets)):\n",
    "    res[i,:] = cors(v, v + offsets[i])\n",
    "\n",
    "plt.figure(figsize = (8, 4))\n",
    "h = plt.plot(offsets, res)\n",
    "h[0].set_color(\"k\")\n",
    "h[0].set_marker(\"o\")\n",
    "h[1].set_color([0.7, 0.7, 0.7])\n",
    "h[1].set_marker(\"s\")\n",
    "plt.xlabel(\"Offset\")\n",
    "plt.ylabel(\"r or c\")\n",
    "plt.legend([\"Pearson Correlation\", \"Cosine Similarity\"])\n",
    "plt.savefig('Figure_04_02.png',dpi=300)\n",
    "plt.show()"
   ]
  },
  {
   "cell_type": "markdown",
   "id": "818b350d",
   "metadata": {},
   "source": [
    "- Once again, notice that the Pearson correlation remains constant because it demeans data\n",
    "- On the other hand, notice how Cosine Similarity varies, even where data has a deterministic relationship"
   ]
  },
  {
   "cell_type": "markdown",
   "id": "9df7b29a",
   "metadata": {},
   "source": [
    "# Exercise 3"
   ]
  },
  {
   "cell_type": "code",
   "execution_count": 58,
   "id": "8d17cb06",
   "metadata": {},
   "outputs": [],
   "source": [
    "from scipy.stats import pearsonr\n",
    "??pearsonr"
   ]
  },
  {
   "cell_type": "markdown",
   "id": "3e9a5e1d",
   "metadata": {},
   "source": [
    "# Exercise 4"
   ]
  },
  {
   "cell_type": "code",
   "execution_count": 60,
   "id": "34f08ae0",
   "metadata": {},
   "outputs": [
    {
     "name": "stdout",
     "output_type": "stream",
     "text": [
      "0.08720231056213379 0.12969636917114258\n"
     ]
    }
   ],
   "source": [
    "import time\n",
    "\n",
    "def cor(v1, v2):\n",
    "    v1 -= v1.mean()\n",
    "    v2 -= v2.mean()\n",
    "    return np.dot(v1, v2) / (np.linalg.norm(v1) * np.linalg.norm(v2))\n",
    "\n",
    "reps = 1000\n",
    "size = 500\n",
    "\n",
    "start = time.time()\n",
    "for i in range(reps):\n",
    "    v = np.random.randn(size)\n",
    "    x = np.random.randn(size)\n",
    "    cor(v, x)\n",
    "t1 = time.time() - start\n",
    "\n",
    "start = time.time()\n",
    "for i in range(reps):\n",
    "    v = np.random.randn(size)\n",
    "    x = np.random.randn(size)\n",
    "    np.corrcoef(v, x)\n",
    "t2 = time.time() - start\n",
    "\n",
    "print(t1, t2)"
   ]
  },
  {
   "cell_type": "markdown",
   "id": "19b5eb12",
   "metadata": {},
   "source": [
    "- Note that you can save a ton of time by demeaning both vectors once and saving the result instead of doing it in the numerator and denominator"
   ]
  },
  {
   "cell_type": "markdown",
   "id": "f15737cd",
   "metadata": {},
   "source": [
    "# Exercise 5"
   ]
  },
  {
   "cell_type": "code",
   "execution_count": null,
   "id": "92b505c8",
   "metadata": {},
   "outputs": [],
   "source": []
  },
  {
   "cell_type": "markdown",
   "id": "32b92a9b",
   "metadata": {},
   "source": [
    "# Exercise 6"
   ]
  },
  {
   "cell_type": "code",
   "execution_count": null,
   "id": "df549ae9",
   "metadata": {},
   "outputs": [],
   "source": []
  },
  {
   "cell_type": "markdown",
   "id": "a9a44d27",
   "metadata": {},
   "source": [
    "# Exercise 7"
   ]
  },
  {
   "cell_type": "code",
   "execution_count": null,
   "id": "b3ae3f72",
   "metadata": {},
   "outputs": [],
   "source": []
  },
  {
   "cell_type": "markdown",
   "id": "b0f6fda4",
   "metadata": {},
   "source": [
    "# Exercise 8"
   ]
  },
  {
   "cell_type": "code",
   "execution_count": null,
   "id": "760ee4c8",
   "metadata": {},
   "outputs": [],
   "source": []
  },
  {
   "cell_type": "markdown",
   "id": "d8f1b4fb",
   "metadata": {},
   "source": [
    "# Exercise 9"
   ]
  },
  {
   "cell_type": "code",
   "execution_count": null,
   "id": "4a9465ff",
   "metadata": {},
   "outputs": [],
   "source": []
  }
 ],
 "metadata": {
  "kernelspec": {
   "display_name": "Python 3 (ipykernel)",
   "language": "python",
   "name": "python3"
  },
  "language_info": {
   "codemirror_mode": {
    "name": "ipython",
    "version": 3
   },
   "file_extension": ".py",
   "mimetype": "text/x-python",
   "name": "python",
   "nbconvert_exporter": "python",
   "pygments_lexer": "ipython3",
   "version": "3.8.11"
  }
 },
 "nbformat": 4,
 "nbformat_minor": 5
}
