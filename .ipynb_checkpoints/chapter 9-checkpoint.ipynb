{
 "cells": [
  {
   "cell_type": "code",
   "execution_count": 1,
   "id": "48351db5",
   "metadata": {},
   "outputs": [],
   "source": [
    "import numpy as np\n",
    "import matplotlib.pyplot as plt"
   ]
  },
  {
   "cell_type": "markdown",
   "id": "90adb36d",
   "metadata": {},
   "source": [
    "# Exercise 1"
   ]
  },
  {
   "cell_type": "code",
   "execution_count": 2,
   "id": "01ee053e",
   "metadata": {},
   "outputs": [
    {
     "name": "stdout",
     "output_type": "stream",
     "text": [
      "[[1. 0. 0.]\n",
      " [0. 1. 0.]\n",
      " [0. 0. 1.]] \n",
      "\n",
      "[[1. 0. 0.]\n",
      " [0. 1. 0.]\n",
      " [0. 0. 1.]] \n",
      "\n",
      "[[ 1. -0. -0.]\n",
      " [ 0.  1.  0.]\n",
      " [ 0. -0.  1.]] \n",
      "\n",
      "[[ 1. -0.  0.]\n",
      " [-0.  1. -0.]\n",
      " [ 0. -0.  1.]] \n",
      "\n"
     ]
    }
   ],
   "source": [
    "n = 3\n",
    "A = np.random.randn(n,n)\n",
    "Q, R = np.linalg.qr(A)\n",
    "QT = Q.T\n",
    "QI = np.linalg.inv(Q)\n",
    "print(np.round(QT@Q, 8), \"\\n\")\n",
    "print(np.round(Q@QT, 8), \"\\n\")\n",
    "print(np.round(Q@QI, 8), \"\\n\")\n",
    "print(np.round(QI@Q, 8), \"\\n\")"
   ]
  },
  {
   "cell_type": "markdown",
   "id": "4f6cd157",
   "metadata": {},
   "source": [
    "# Exercise 2\n",
    "\n",
    "Gram-scmidt:\n",
    "- Iterate through columns of the matrix left to right\n",
    "- For each column, subtract the parallel parts of the orthogonal vector decomposition from all previous columns\n",
    "- After the subtractions, regularize the norm of the column to be 1\n",
    "- Notice that numpy's QR decomposition uses a different (Householder) algorithm, which results in signs being reversed"
   ]
  },
  {
   "cell_type": "code",
   "execution_count": 3,
   "id": "2fba6732",
   "metadata": {},
   "outputs": [
    {
     "name": "stdout",
     "output_type": "stream",
     "text": [
      "[[ 0.32126353 -0.          0.          1.26020965]\n",
      " [ 1.77863948 -0.          0.         -0.53499704]\n",
      " [ 0.85614308  0.          0.          0.66257211]\n",
      " [ 0.01582268 -0.          0.         -1.29871013]]\n",
      "[[-0.          0.65532833  1.37084141  0.        ]\n",
      " [ 0.         -0.63726084  0.37962926  0.        ]\n",
      " [ 0.          1.05148413 -1.31240175  0.        ]\n",
      " [ 0.          1.43486045  0.50425897  0.        ]]\n"
     ]
    }
   ],
   "source": [
    "m = 4\n",
    "n = 4\n",
    "A = np.random.randn(m,n)\n",
    "Q = np.zeros((m,n))\n",
    "\n",
    "for i in range(n):\n",
    "    Q[:,i] = A[:,i]\n",
    "    \n",
    "    a = A[:,i]\n",
    "    for j in range(i):\n",
    "        q = Q[:,j]\n",
    "        Q[:,i] -= np.dot(a,q) / np.dot(q,q) * q\n",
    "    Q[:,i] /= np.linalg.norm(Q[:,i])\n",
    "    \n",
    "QQ = np.linalg.qr(A)[0]\n",
    "print(np.round(Q - QQ, 10))\n",
    "print(np.round(Q + QQ, 10))"
   ]
  },
  {
   "cell_type": "markdown",
   "id": "9b253bcd",
   "metadata": {},
   "source": [
    "# Exercise 3"
   ]
  },
  {
   "cell_type": "code",
   "execution_count": 4,
   "id": "ff3899ef",
   "metadata": {},
   "outputs": [
    {
     "name": "stdout",
     "output_type": "stream",
     "text": [
      "[[ 1. -0. -0. -0.  0. -0.]\n",
      " [ 0.  1.  0. -0. -0.  0.]\n",
      " [ 0.  0.  1.  0. -0.  0.]\n",
      " [ 0.  0.  0.  1. -0.  0.]\n",
      " [ 0.  0.  0.  0.  1. -0.]\n",
      " [ 0.  0.  0.  0.  0.  1.]] \n",
      "\n",
      "[[10. -0. -0. -0.  0. -0.]\n",
      " [ 0. 11.  0. -0. -0. -0.]\n",
      " [ 0.  0. 12.  0.  0.  0.]\n",
      " [ 0.  0.  0. 13. -0. -0.]\n",
      " [ 0.  0.  0.  0. 14. -0.]\n",
      " [ 0.  0.  0.  0.  0. 15.]] \n",
      "\n",
      "[[ 1.         -0.         -0.          0.04274261  0.         -0.        ]\n",
      " [ 0.          1.          0.         -0.04982588 -0.          0.        ]\n",
      " [ 0.          0.          1.         -0.16139666 -0.          0.        ]\n",
      " [ 0.          0.          0.          0.90384738  0.1842767  -0.29539296]\n",
      " [ 0.          0.          0.          0.          0.98287441  0.0553825 ]\n",
      " [ 0.          0.          0.          0.          0.          0.95376925]]\n"
     ]
    }
   ],
   "source": [
    "A = np.random.randn(6,6)\n",
    "U = np.linalg.qr(A)[0]\n",
    "Q, R = np.linalg.qr(U)\n",
    "print(np.round(R, 8), \"\\n\")\n",
    "\n",
    "for i in range(Q.shape[1]):\n",
    "    Q[:,i] *= (i + 10)\n",
    "Q, R = np.linalg.qr(Q)\n",
    "print(np.round(R, 8), \"\\n\")\n",
    "\n",
    "U[0,3] = 0\n",
    "Q, R = np.linalg.qr(U)\n",
    "print(np.round(R, 10))"
   ]
  },
  {
   "cell_type": "markdown",
   "id": "e0eb13b4",
   "metadata": {},
   "source": [
    "Observations\n",
    "- When performing QR on an orthogonal matrix, it simply yields R = I\n",
    "- When performing QR on a matrix with orthogonal columns and different norms, R becomes and identity matrix scaled by the norms of the columns\n",
    "- When the orthogonality of the matrix is broken at an element, R is still the identity matrix until the column corresponding to where the orthogonality is broken, at which point it becomes different because of the orthogonalization procedure"
   ]
  },
  {
   "cell_type": "markdown",
   "id": "c18e477c",
   "metadata": {},
   "source": [
    "# Exercise 4"
   ]
  },
  {
   "cell_type": "code",
   "execution_count": 5,
   "id": "d6391258",
   "metadata": {},
   "outputs": [],
   "source": [
    "def old_inv(A):\n",
    "    m = A.shape[0]\n",
    "    if m != A.shape[1]:\n",
    "        raise Exception(\"Matrix must be square\")\n",
    "    if np.linalg.matrix_rank(A) < m:\n",
    "        raise Exception(\"Matrix must be full rank\")\n",
    "        \n",
    "    M = np.zeros((m,m))\n",
    "    G = np.zeros((m,m))\n",
    "    for i in range(m):\n",
    "        for j in range(m):\n",
    "            rows, cols = [True]*m, [True]*m\n",
    "            rows[i], cols[j] = False, False\n",
    "            M[i,j] = np.linalg.det(A[rows,:][:,cols])\n",
    "            G[i,j] = (-1)**(i+j)\n",
    "    return (M * G).T / np.linalg.det(A)"
   ]
  },
  {
   "cell_type": "code",
   "execution_count": 6,
   "id": "98df3815",
   "metadata": {},
   "outputs": [],
   "source": [
    "n = 5\n",
    "A = np.random.randn(n,n)\n",
    "AAi_old = A @ old_inv(A)\n",
    "Q, R = np.linalg.qr(A)\n",
    "AAi_qr = A @ old_inv(R) @ Q.T"
   ]
  },
  {
   "cell_type": "code",
   "execution_count": 7,
   "id": "80e57f7b",
   "metadata": {},
   "outputs": [
    {
     "data": {
      "image/png": "[encoded data removed]",
      "text/plain": [
       "<Figure size 600x600 with 1 Axes>"
      ]
     },
     "metadata": {},
     "output_type": "display_data"
    }
   ],
   "source": [
    "true_I = np.eye(n)\n",
    "sse = [0, 0]\n",
    "sse[0] = np.sqrt(np.sum((AAi_old-true_I)**2))\n",
    "sse[1] = np.sqrt(np.sum((AAi_qr-true_I)**2))\n",
    "\n",
    "plt.figure(figsize = (6,6))\n",
    "plt.bar(range(2), sse, color = 3*[0.7])\n",
    "plt.xticks(range(2), labels = [\"Old inverse\", \"QR inverse\"])\n",
    "plt.ylim([0, np.max(sse)*1.1])\n",
    "plt.ylabel(\"Euclidean distance to identity\")\n",
    "plt.title(f\"Inverse error ({n}x{n} matrix)\")\n",
    "plt.savefig('Figure_09_03.png',dpi=300)\n",
    "plt.show()"
   ]
  },
  {
   "cell_type": "markdown",
   "id": "92919ed2",
   "metadata": {},
   "source": [
    "- Note that the old inverse may have less error than the QR simply through randomness"
   ]
  },
  {
   "cell_type": "markdown",
   "id": "238d3c50",
   "metadata": {},
   "source": [
    "# Exercise 5"
   ]
  },
  {
   "cell_type": "code",
   "execution_count": 8,
   "id": "56602e15",
   "metadata": {},
   "outputs": [
    {
     "data": {
      "image/png": "[encoded data removed]",
      "text/plain": [
       "<Figure size 600x600 with 1 Axes>"
      ]
     },
     "metadata": {},
     "output_type": "display_data"
    }
   ],
   "source": [
    "n = 5\n",
    "reps = 100\n",
    "sse = np.zeros((reps,2))\n",
    "true_I = np.eye(n)\n",
    "\n",
    "for i in range(reps):\n",
    "    A = np.random.randn(n,n)\n",
    "    AAi_old = A @ old_inv(A)\n",
    "    Q, R = np.linalg.qr(A)\n",
    "    AAi_qr = A @ old_inv(R) @ Q.T\n",
    "    sse[i,0] = np.sqrt(np.sum((AAi_old-true_I)**2))\n",
    "    sse[i,1] = np.sqrt(np.sum((AAi_qr-true_I)**2))\n",
    "    \n",
    "plt.figure(figsize = (6,6))\n",
    "plt.plot(np.zeros(reps), sse[:,0], \"ko\")\n",
    "plt.plot(np.ones(reps), sse[:,1], \"ko\")\n",
    "plt.bar(range(2), np.mean(sse, axis = 0), color = 3*[0.7])\n",
    "plt.xticks(range(2), labels = [\"Old Inverse\", \"QR Inverse\"])\n",
    "plt.ylim([0, np.max(sse)*1.1])\n",
    "plt.ylabel(\"Euclidean distance to identity\")\n",
    "plt.title(f\"Inverse error ({n}x{n} matrix)\")\n",
    "plt.savefig('Figure_09_04a.png',dpi=300)"
   ]
  },
  {
   "cell_type": "code",
   "execution_count": 9,
   "id": "33e1e26b",
   "metadata": {},
   "outputs": [
    {
     "data": {
      "image/png": "[encoded data removed]",
      "text/plain": [
       "<Figure size 600x600 with 1 Axes>"
      ]
     },
     "metadata": {},
     "output_type": "display_data"
    }
   ],
   "source": [
    "n = 30\n",
    "reps = 100\n",
    "sse = np.zeros((reps,2))\n",
    "true_I = np.eye(n)\n",
    "\n",
    "for i in range(reps):\n",
    "    A = np.random.randn(n,n)\n",
    "    AAi_old = A @ old_inv(A)\n",
    "    Q, R = np.linalg.qr(A)\n",
    "    AAi_qr = A @ old_inv(R) @ Q.T\n",
    "    sse[i,0] = np.sqrt(np.sum((AAi_old-true_I)**2))\n",
    "    sse[i,1] = np.sqrt(np.sum((AAi_qr-true_I)**2))\n",
    "    \n",
    "plt.figure(figsize = (6,6))\n",
    "plt.plot(np.zeros(reps), sse[:,0], \"ko\")\n",
    "plt.plot(np.ones(reps), sse[:,1], \"ko\")\n",
    "plt.bar(range(2), np.mean(sse, axis = 0), color = 3*[0.7])\n",
    "plt.xticks(range(2), labels = [\"Old Inverse\", \"QR Inverse\"])\n",
    "plt.ylim([0, np.max(sse)*1.1])\n",
    "plt.ylabel(\"Euclidean distance to identity\")\n",
    "plt.title(f\"Inverse error ({n}x{n} matrix)\")\n",
    "plt.savefig('Figure_09_04b.png',dpi=300)"
   ]
  },
  {
   "cell_type": "markdown",
   "id": "4d4e7041",
   "metadata": {},
   "source": [
    "# Exercise 6\n",
    "\n",
    "Square orthogonal matrix properties:\n",
    "\n",
    "- All singular values and eigenvalues equal 1 $\\rightarrow$ the induced norm (highest eigenvalue) equals 1\n",
    "- For an MxM matrix, the Frobenius norm equals M\n",
    "- Multiplying a vector by an orthogonal matrix does not affect the norm"
   ]
  },
  {
   "cell_type": "code",
   "execution_count": 10,
   "id": "40bdea6c",
   "metadata": {},
   "outputs": [
    {
     "name": "stdout",
     "output_type": "stream",
     "text": [
      "1.0000000000000004\n",
      "1.0000000000000002\n"
     ]
    }
   ],
   "source": [
    "n = 13\n",
    "Q, R = np.linalg.qr(np.random.randn(13,13))\n",
    "\n",
    "# First line yields the induced norm (highest eigenvalue)\n",
    "print(np.linalg.norm(Q, 2))\n",
    "print(np.sqrt(np.sum(Q**2)) / np.sqrt(13))"
   ]
  },
  {
   "cell_type": "code",
   "execution_count": 11,
   "id": "cfe465f5",
   "metadata": {},
   "outputs": [
    {
     "name": "stdout",
     "output_type": "stream",
     "text": [
      "4.204492830946967 4.204492830946967\n"
     ]
    }
   ],
   "source": [
    "v = np.random.randn(n,1)\n",
    "v_norm = np.linalg.norm(v)\n",
    "Qv_norm = np.linalg.norm(Q @ v)\n",
    "\n",
    "print(v_norm, Qv_norm)"
   ]
  },
  {
   "cell_type": "markdown",
   "id": "1c1a1fc3",
   "metadata": {},
   "source": [
    "- Notice that the norm of v equals the square root of $v^{\\prime}v$\n",
    "- The norm of Qv equals the square root of $(Qv)^{\\prime}Qv = v^{\\prime}Q^{\\prime}Qv = v^{\\prime}v$\n",
    "- The interpretation of this is that orthogonal matrices can rotate vectors but never scale them"
   ]
  },
  {
   "cell_type": "markdown",
   "id": "a9fa2806",
   "metadata": {},
   "source": [
    "# Exercise 7\n",
    "\n",
    "More QR facts\n",
    "\n",
    "- The QR decomposition has both economy and complete forms for nonsquare matrices\n",
    "- For the complete form, R isn't square, so we can't use it to compute inverses like we did before\n",
    "- However, the inverse of the nonzero part of R will be equal to the psuedo/left inverse of the tall R\n",
    "- Therefore, we can still use QR to perform inversions for tall matrix applications like regression"
   ]
  },
  {
   "cell_type": "code",
   "execution_count": 12,
   "id": "328751ae",
   "metadata": {},
   "outputs": [
    {
     "name": "stdout",
     "output_type": "stream",
     "text": [
      "[[ 3.07860574  0.41578588  0.95179904 -0.23826068]\n",
      " [ 0.          3.2180989   2.00626621  0.81481716]\n",
      " [ 0.          0.          4.3128409  -0.9490839 ]\n",
      " [ 0.          0.          0.          2.25538327]\n",
      " [ 0.          0.          0.          0.        ]\n",
      " [ 0.          0.          0.          0.        ]\n",
      " [ 0.          0.          0.          0.        ]\n",
      " [ 0.          0.          0.          0.        ]\n",
      " [ 0.          0.          0.          0.        ]\n",
      " [ 0.          0.          0.          0.        ]]\n"
     ]
    }
   ],
   "source": [
    "m = 10\n",
    "n = 4\n",
    "Q, R = np.linalg.qr(np.random.randn(10,4), \"complete\")\n",
    "print(R)"
   ]
  },
  {
   "cell_type": "code",
   "execution_count": 13,
   "id": "2c54bbcf",
   "metadata": {},
   "outputs": [
    {
     "name": "stdout",
     "output_type": "stream",
     "text": [
      "Full inverse of the R submatrix:\n",
      "[[ 0.325 -0.042 -0.052  0.028]\n",
      " [ 0.     0.311 -0.145 -0.173]\n",
      " [ 0.     0.     0.232  0.098]\n",
      " [ 0.     0.     0.     0.443]] \n",
      " \n",
      "\n",
      "Left inverse of R:\n",
      "[[ 0.325 -0.042 -0.052  0.028  0.     0.     0.     0.     0.     0.   ]\n",
      " [ 0.     0.311 -0.145 -0.173  0.     0.     0.     0.     0.     0.   ]\n",
      " [ 0.     0.     0.232  0.098  0.     0.     0.     0.     0.     0.   ]\n",
      " [ 0.     0.     0.     0.443  0.     0.     0.     0.     0.     0.   ]]\n"
     ]
    }
   ],
   "source": [
    "R_s = R[:4,:]\n",
    "R_s_inv = np.linalg.inv(R_s)\n",
    "R_left_inv = np.linalg.pinv(R)\n",
    "print(\"Full inverse of the R submatrix:\")\n",
    "print(np.round(R_s_inv, 3), \"\\n\", \"\\n\")\n",
    "print(\"Left inverse of R:\")\n",
    "print(np.round(R_left_inv, 3))"
   ]
  }
 ],
 "metadata": {
  "kernelspec": {
   "display_name": "Python 3 (ipykernel)",
   "language": "python",
   "name": "python3"
  },
  "language_info": {
   "codemirror_mode": {
    "name": "ipython",
    "version": 3
   },
   "file_extension": ".py",
   "mimetype": "text/x-python",
   "name": "python",
   "nbconvert_exporter": "python",
   "pygments_lexer": "ipython3",
   "version": "3.10.9"
  }
 },
 "nbformat": 4,
 "nbformat_minor": 5
}
