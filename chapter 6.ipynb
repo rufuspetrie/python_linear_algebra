{
 "cells": [
  {
   "cell_type": "code",
   "execution_count": 12,
   "id": "56e8c33c",
   "metadata": {},
   "outputs": [],
   "source": [
    "import numpy as np\n",
    "import matplotlib.pyplot as plt"
   ]
  },
  {
   "cell_type": "markdown",
   "id": "9695d305",
   "metadata": {},
   "source": [
    "# Exercise 1"
   ]
  },
  {
   "cell_type": "code",
   "execution_count": 18,
   "id": "f9ed9d3b",
   "metadata": {},
   "outputs": [
    {
     "data": {
      "image/png": "[encoded data removed]",
      "text/plain": [
       "<Figure size 640x480 with 1 Axes>"
      ]
     },
     "metadata": {},
     "output_type": "display_data"
    }
   ],
   "source": [
    "scalars = np.linspace(0, 50, 40)\n",
    "n = 10\n",
    "norms = np.zeros((len(scalars), n))\n",
    "\n",
    "for i in range(len(scalars)):\n",
    "    for j in range(n):\n",
    "        A = np.random.randn(10,10) * scalars[i]\n",
    "        norms[i,j] = np.linalg.norm(A, \"fro\")\n",
    "\n",
    "plt.plot(scalars, np.mean(norms, axis = 1), \"ko-\")\n",
    "plt.xlabel(\"Matrix scalar\")\n",
    "plt.ylabel(\"Matrix frobenius norm\")\n",
    "plt.savefig('Figure_06_07.png',dpi=300)\n",
    "plt.show()"
   ]
  },
  {
   "cell_type": "markdown",
   "id": "da07250a",
   "metadata": {},
   "source": [
    "# Exercise 2"
   ]
  },
  {
   "cell_type": "code",
   "execution_count": 36,
   "id": "b16df1b5",
   "metadata": {},
   "outputs": [
    {
     "name": "stdout",
     "output_type": "stream",
     "text": [
      "Number of iterations: 21\n",
      "Value of scalar: 0.109\n",
      "Final Euclidean Distance: 0.952\n"
     ]
    }
   ],
   "source": [
    "def frob_dist(A, B):\n",
    "    return np.sqrt(np.sum((A - B)**2))\n",
    "\n",
    "N = 6\n",
    "A = np.random.randn(N,N)\n",
    "B = np.random.randn(N,N)\n",
    "\n",
    "reps = 0\n",
    "s = 1\n",
    "while frob_dist(A*s, B*s) > 1:\n",
    "    s *= 0.9\n",
    "    reps += 1\n",
    "    \n",
    "print(f\"Number of iterations: {reps}\")\n",
    "print(f\"Value of scalar: {s:.3f}\")\n",
    "print(f\"Final Euclidean Distance: {frob_dist(A*s, B*s):.3f}\")"
   ]
  },
  {
   "cell_type": "markdown",
   "id": "8dbf7846",
   "metadata": {},
   "source": [
    "# Exercise 3"
   ]
  },
  {
   "cell_type": "code",
   "execution_count": 47,
   "id": "4d703322",
   "metadata": {},
   "outputs": [
    {
     "name": "stdout",
     "output_type": "stream",
     "text": [
      "6.783718209409292\n",
      "6.783718209409292\n"
     ]
    }
   ],
   "source": [
    "np.random.seed(0)\n",
    "N = 6\n",
    "A = np.random.randn(N,N)\n",
    "B = np.random.randn(N,N)\n",
    "\n",
    "print(np.sqrt(np.sum(A**2)))\n",
    "print(np.sqrt(np.sum(np.diag(A.T @ A))))"
   ]
  },
  {
   "cell_type": "markdown",
   "id": "c9c2bd07",
   "metadata": {},
   "source": [
    "# Exercise 4"
   ]
  },
  {
   "cell_type": "code",
   "execution_count": 48,
   "id": "852e3903",
   "metadata": {},
   "outputs": [
    {
     "data": {
      "text/plain": [
       "10.178537969597436"
      ]
     },
     "execution_count": 48,
     "metadata": {},
     "output_type": "execute_result"
    }
   ],
   "source": [
    "A = np.random.randn(100).reshape(10,10)\n",
    "N_0 = np.linalg.norm(A, \"fro\")\n",
    "N_0"
   ]
  },
  {
   "cell_type": "markdown",
   "id": "9e01a316",
   "metadata": {},
   "source": [
    "# Exercise 5"
   ]
  },
  {
   "cell_type": "code",
   "execution_count": null,
   "id": "68103181",
   "metadata": {},
   "outputs": [],
   "source": []
  },
  {
   "cell_type": "markdown",
   "id": "6089a4cc",
   "metadata": {},
   "source": [
    "# Exercise 6"
   ]
  },
  {
   "cell_type": "code",
   "execution_count": null,
   "id": "cb4f888f",
   "metadata": {},
   "outputs": [],
   "source": []
  },
  {
   "cell_type": "markdown",
   "id": "74e8b6d8",
   "metadata": {},
   "source": [
    "# Exercise 7"
   ]
  },
  {
   "cell_type": "code",
   "execution_count": null,
   "id": "b3bb1fa7",
   "metadata": {},
   "outputs": [],
   "source": []
  },
  {
   "cell_type": "markdown",
   "id": "97dc5870",
   "metadata": {},
   "source": [
    "# Exercise 8"
   ]
  },
  {
   "cell_type": "code",
   "execution_count": null,
   "id": "0363e149",
   "metadata": {},
   "outputs": [],
   "source": []
  },
  {
   "cell_type": "markdown",
   "id": "d4a08c5d",
   "metadata": {},
   "source": [
    "# Exercise 9"
   ]
  },
  {
   "cell_type": "code",
   "execution_count": null,
   "id": "39337118",
   "metadata": {},
   "outputs": [],
   "source": []
  },
  {
   "cell_type": "markdown",
   "id": "30444a4f",
   "metadata": {},
   "source": [
    "# Exercise 10"
   ]
  },
  {
   "cell_type": "code",
   "execution_count": null,
   "id": "fe9854ff",
   "metadata": {},
   "outputs": [],
   "source": []
  }
 ],
 "metadata": {
  "kernelspec": {
   "display_name": "Python 3 (ipykernel)",
   "language": "python",
   "name": "python3"
  },
  "language_info": {
   "codemirror_mode": {
    "name": "ipython",
    "version": 3
   },
   "file_extension": ".py",
   "mimetype": "text/x-python",
   "name": "python",
   "nbconvert_exporter": "python",
   "pygments_lexer": "ipython3",
   "version": "3.10.9"
  }
 },
 "nbformat": 4,
 "nbformat_minor": 5
}
